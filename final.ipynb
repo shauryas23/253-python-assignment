{
 "cells": [
  {
   "cell_type": "code",
   "execution_count": 154,
   "id": "bbf30d19",
   "metadata": {
    "_cell_guid": "b1076dfc-b9ad-4769-8c92-a6c4dae69d19",
    "_uuid": "8f2839f25d086af736a60e9eeb907d3b93b6e0e5",
    "execution": {
     "iopub.execute_input": "2024-04-11T05:30:45.401789Z",
     "iopub.status.busy": "2024-04-11T05:30:45.400859Z",
     "iopub.status.idle": "2024-04-11T05:30:46.399990Z",
     "shell.execute_reply": "2024-04-11T05:30:46.398898Z"
    },
    "papermill": {
     "duration": 1.01985,
     "end_time": "2024-04-11T05:30:46.402669",
     "exception": false,
     "start_time": "2024-04-11T05:30:45.382819",
     "status": "completed"
    },
    "tags": []
   },
   "outputs": [],
   "source": [
    "import numpy as np \n",
    "import pandas as pd\n",
    "train = pd.read_csv('train.csv')\n",
    "test = pd.read_csv('test.csv')"
   ]
  },
  {
   "cell_type": "code",
   "execution_count": 155,
   "id": "8ab0d633",
   "metadata": {
    "execution": {
     "iopub.execute_input": "2024-04-11T05:30:47.176812Z",
     "iopub.status.busy": "2024-04-11T05:30:47.175979Z",
     "iopub.status.idle": "2024-04-11T05:30:47.187854Z",
     "shell.execute_reply": "2024-04-11T05:30:47.186670Z"
    },
    "papermill": {
     "duration": 0.032079,
     "end_time": "2024-04-11T05:30:47.190285",
     "exception": false,
     "start_time": "2024-04-11T05:30:47.158206",
     "status": "completed"
    },
    "tags": []
   },
   "outputs": [],
   "source": [
    "train['SC'] = (train['Constituency ∇'].str.contains('SC')).astype(int)\n",
    "train['ST'] = (train['Constituency ∇'].str.contains('ST')).astype(int)\n",
    "test['SC'] = (test['Constituency ∇'].str.contains('SC')).astype(int)\n",
    "test['ST'] = (test['Constituency ∇'].str.contains('ST')).astype(int)\n",
    "\n",
    "train['Doctor'] = (train['Candidate'].str.contains('Dr.')).astype(int)\n",
    "train['Advocate'] = (train['Candidate'].str.contains('Adv.')).astype(int)\n",
    "test['Doctor'] = (test['Candidate'].str.contains('Dr.')).astype(int)\n",
    "test['Advocate'] = (test['Candidate'].str.contains('Adv.')).astype(int)\n",
    "\n",
    "train.drop('Constituency ∇', axis=1, inplace=True)\n",
    "train.drop('Candidate', axis=1 , inplace=True)\n",
    "test.drop('Constituency ∇', axis=1, inplace=True)\n",
    "test.drop('Candidate', axis=1 , inplace=True)"
   ]
  },
  {
   "cell_type": "code",
   "execution_count": 156,
   "id": "fdd4e5e1",
   "metadata": {
    "execution": {
     "iopub.execute_input": "2024-04-11T05:30:47.274847Z",
     "iopub.status.busy": "2024-04-11T05:30:47.274479Z",
     "iopub.status.idle": "2024-04-11T05:30:47.287003Z",
     "shell.execute_reply": "2024-04-11T05:30:47.285793Z"
    },
    "papermill": {
     "duration": 0.033265,
     "end_time": "2024-04-11T05:30:47.289466",
     "exception": false,
     "start_time": "2024-04-11T05:30:47.256201",
     "status": "completed"
    },
    "tags": []
   },
   "outputs": [],
   "source": [
    "import re\n",
    "\n",
    "def convert(val):\n",
    "    val = val.replace('+', '').replace(' ', '')\n",
    "    \n",
    "    conversion_factors = {'Crore': 10000000, 'Lac': 100000, 'Thou': 1000}\n",
    "    \n",
    "    for unit, factor in conversion_factors.items():\n",
    "        if unit in val:\n",
    "            value = float(re.findall(r'\\d+', val)[0])\n",
    "            return value * factor\n",
    "    return 0\n",
    "\n",
    "train['Total Assets'] = train['Total Assets'].apply(convert)\n",
    "train['Liabilities'] = train['Liabilities'].apply(convert)\n",
    "test['Total Assets'] = test['Total Assets'].apply(convert)\n",
    "test['Liabilities'] = test['Liabilities'].apply(convert)"
   ]
  },
  {
   "cell_type": "code",
   "execution_count": 157,
   "id": "f310f512",
   "metadata": {
    "execution": {
     "iopub.execute_input": "2024-04-11T05:30:47.658004Z",
     "iopub.status.busy": "2024-04-11T05:30:47.657605Z",
     "iopub.status.idle": "2024-04-11T05:30:47.683489Z",
     "shell.execute_reply": "2024-04-11T05:30:47.682344Z"
    },
    "papermill": {
     "duration": 0.047327,
     "end_time": "2024-04-11T05:30:47.686509",
     "exception": false,
     "start_time": "2024-04-11T05:30:47.639182",
     "status": "completed"
    },
    "tags": []
   },
   "outputs": [],
   "source": [
    "party_encoded = pd.get_dummies(train['Party'], prefix='Party')\n",
    "train = pd.concat([train, party_encoded], axis=1)\n",
    "train.drop('Party', axis=1, inplace=True)\n",
    "\n",
    "party_encoded = pd.get_dummies(test['Party'], prefix='Party')\n",
    "test = pd.concat([test, party_encoded], axis=1)\n",
    "test.drop('Party', axis=1, inplace=True)"
   ]
  },
  {
   "cell_type": "code",
   "execution_count": 158,
   "id": "cc748229",
   "metadata": {
    "execution": {
     "iopub.execute_input": "2024-04-11T05:30:47.786369Z",
     "iopub.status.busy": "2024-04-11T05:30:47.785704Z",
     "iopub.status.idle": "2024-04-11T05:30:47.806977Z",
     "shell.execute_reply": "2024-04-11T05:30:47.804939Z"
    },
    "papermill": {
     "duration": 0.043226,
     "end_time": "2024-04-11T05:30:47.809800",
     "exception": false,
     "start_time": "2024-04-11T05:30:47.766574",
     "status": "completed"
    },
    "tags": []
   },
   "outputs": [],
   "source": [
    "state_encoded = pd.get_dummies(train['state'], prefix='state')\n",
    "train = pd.concat([train, state_encoded], axis=1)\n",
    "train.drop('state', axis=1, inplace=True)\n",
    "\n",
    "state_encoded = pd.get_dummies(test['state'], prefix='state')\n",
    "test = pd.concat([test, state_encoded], axis=1)\n",
    "test.drop('state', axis=1, inplace=True)"
   ]
  },
  {
   "cell_type": "code",
   "execution_count": 159,
   "id": "c8f4dbb2",
   "metadata": {
    "execution": {
     "iopub.status.busy": "2024-04-10T22:19:23.158365Z",
     "iopub.status.idle": "2024-04-10T22:19:23.158729Z",
     "shell.execute_reply": "2024-04-10T22:19:23.158551Z",
     "shell.execute_reply.started": "2024-04-10T22:19:23.158537Z"
    },
    "papermill": {
     "duration": null,
     "end_time": null,
     "exception": null,
     "start_time": null,
     "status": "pending"
    },
    "tags": []
   },
   "outputs": [],
   "source": [
    "X_train = train.drop(['Education'], axis=1)\n",
    "Y_train = train['Education']"
   ]
  },
  {
   "cell_type": "code",
   "execution_count": 160,
   "id": "8734e6fb",
   "metadata": {
    "execution": {
     "iopub.status.busy": "2024-04-10T22:19:23.183022Z",
     "iopub.status.idle": "2024-04-10T22:19:23.183795Z",
     "shell.execute_reply": "2024-04-10T22:19:23.183610Z",
     "shell.execute_reply.started": "2024-04-10T22:19:23.183593Z"
    },
    "papermill": {
     "duration": null,
     "end_time": null,
     "exception": null,
     "start_time": null,
     "status": "pending"
    },
    "tags": []
   },
   "outputs": [],
   "source": [
    "from sklearn.model_selection import RandomizedSearchCV\n",
    "from scipy.stats import randint\n",
    "from sklearn.ensemble import RandomForestClassifier\n",
    "\n",
    "params = {\n",
    "    'n_estimators': randint(10, 1000),\n",
    "    'random_state': [42,123,456,789,1000]\n",
    "}   \n",
    "\n",
    "rand = RandomizedSearchCV(RandomForestClassifier(), param_distributions = params, n_iter = 10, cv = 5)\n",
    "rand.fit(X_train, Y_train)\n",
    "bestps = rand.best_params_"
   ]
  },
  {
   "cell_type": "code",
   "execution_count": 161,
   "id": "9c9ecaf0",
   "metadata": {},
   "outputs": [],
   "source": [
    "rf = RandomForestClassifier(n_estimators = bestps['n_estimators'], random_state = bestps['random_state'])\n",
    "\n",
    "rf.fit(X_train, Y_train)\n",
    "pred = rf.predict(test)"
   ]
  },
  {
   "cell_type": "code",
   "execution_count": 162,
   "id": "c9c32fc2",
   "metadata": {
    "execution": {
     "iopub.status.busy": "2024-04-10T22:19:23.186955Z",
     "iopub.status.idle": "2024-04-10T22:19:23.187313Z",
     "shell.execute_reply": "2024-04-10T22:19:23.187159Z",
     "shell.execute_reply.started": "2024-04-10T22:19:23.187145Z"
    },
    "papermill": {
     "duration": null,
     "end_time": null,
     "exception": null,
     "start_time": null,
     "status": "pending"
    },
    "tags": []
   },
   "outputs": [],
   "source": [
    "submission = pd.DataFrame({'ID': range(1, len(pred) + 1), 'Education': pred})\n",
    "submission['ID'] = submission['ID'] - 1\n",
    "submission.to_csv('submission.csv', index=False)"
   ]
  }
 ],
 "metadata": {
  "kaggle": {
   "accelerator": "none",
   "dataSources": [
    {
     "databundleVersionId": 8059709,
     "sourceId": 72632,
     "sourceType": "competition"
    }
   ],
   "dockerImageVersionId": 30673,
   "isGpuEnabled": false,
   "isInternetEnabled": true,
   "language": "python",
   "sourceType": "notebook"
  },
  "kernelspec": {
   "display_name": "Python 3",
   "language": "python",
   "name": "python3"
  },
  "language_info": {
   "codemirror_mode": {
    "name": "ipython",
    "version": 3
   },
   "file_extension": ".py",
   "mimetype": "text/x-python",
   "name": "python",
   "nbconvert_exporter": "python",
   "pygments_lexer": "ipython3",
   "version": "3.11.9"
  },
  "papermill": {
   "default_parameters": {},
   "duration": 8.050427,
   "end_time": "2024-04-11T05:30:50.244077",
   "environment_variables": {},
   "exception": true,
   "input_path": "__notebook__.ipynb",
   "output_path": "__notebook__.ipynb",
   "parameters": {},
   "start_time": "2024-04-11T05:30:42.193650",
   "version": "2.5.0"
  }
 },
 "nbformat": 4,
 "nbformat_minor": 5
}
